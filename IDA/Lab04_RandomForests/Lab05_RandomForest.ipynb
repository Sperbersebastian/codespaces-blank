{
 "cells": [
  {
   "cell_type": "markdown",
   "metadata": {},
   "source": [
    "# Random Forest\n",
    "\n",
    "In this lab you will learn the most important aspects of the random forest learning method. \n",
    "Completing this lab and analyzing the code will give you a deeper understanding of these type of models.\n",
    "In our experiments we will mostly use the package sklearn from which we import RandomForestClassifier.\n"
   ]
  },
  {
   "cell_type": "code",
   "execution_count": null,
   "metadata": {},
   "outputs": [],
   "source": [
    "import numpy as np\n",
    "import pandas as pd\n",
    "import matplotlib.pyplot as plt\n",
    "\n",
    "from sklearn.ensemble import RandomForestClassifier\n",
    "from sklearn.ensemble import RandomForestRegressor\n",
    "\n",
    "\n",
    "%matplotlib inline\n",
    "%load_ext autoreload\n",
    "%autoreload 2"
   ]
  },
  {
   "cell_type": "code",
   "execution_count": null,
   "metadata": {},
   "outputs": [],
   "source": [
    "from sklearn.datasets import make_classification, make_regression"
   ]
  },
  {
   "cell_type": "markdown",
   "metadata": {},
   "source": [
    "## Data Creation\n",
    "\n",
    "First of all, we create a data set containing 1000 samples with 2 features and two classes:"
   ]
  },
  {
   "cell_type": "code",
   "execution_count": null,
   "metadata": {},
   "outputs": [],
   "source": [
    "X, y = make_classification(n_samples = 1000,n_features=2, n_redundant=0, n_informative=2,\n",
    "                           random_state=1, n_clusters_per_class=1)"
   ]
  },
  {
   "cell_type": "markdown",
   "metadata": {},
   "source": [
    "<b>Exercise 1:</b>\n",
    "\n",
    "Visualize the data set. It should look like this:\n",
    "<img src=\"figures/dataset.png\" width=\"600\"/>"
   ]
  },
  {
   "cell_type": "code",
   "execution_count": null,
   "metadata": {},
   "outputs": [],
   "source": [
    "\n",
    "def generate_scatter_plot(X, y):\n",
    "\n",
    "    class_colors = ['red','blue']\n",
    "\n",
    "    fig = plt.figure(figsize=(12, 6)) # increase size of plot\n",
    "    \n",
    "    for i, class_color in enumerate(class_colors):\n",
    "        # plot the points only of this class label\n",
    "        plt.scatter(X[y == i, 0], X[y == i, 1], c=class_color) \n",
    "\n",
    "    plt.legend(loc=\"best\") # with legend\n",
    "\n",
    "generate_scatter_plot(X, y)"
   ]
  },
  {
   "cell_type": "markdown",
   "metadata": {},
   "source": [
    "<b>Exercise 2:</b>\n",
    "\n",
    "We split our data into train and test data. Then we can train our model (a random forest) on the train data and evaluate the model on the hold out test data. We split the data in a way that we train our model on 67% of the data and test our model on 33% of the data."
   ]
  },
  {
   "cell_type": "code",
   "execution_count": null,
   "metadata": {},
   "outputs": [],
   "source": [
    "from sklearn.model_selection import train_test_split\n",
    "X_train, X_test, y_train, y_test = train_test_split(X, y, test_size=.33, random_state=42)"
   ]
  },
  {
   "cell_type": "markdown",
   "metadata": {},
   "source": [
    "Train a random forest on the training data and report the accuracy for this model on the train and test data using the default parameters of a random forest (from sklearn). What can you conclude from this? ."
   ]
  },
  {
   "cell_type": "code",
   "execution_count": null,
   "metadata": {},
   "outputs": [],
   "source": [
    "from sklearn.ensemble import RandomForestClassifier\n",
    "from sklearn.metrics import accuracy_score\n",
    "# Create a random forest classifier\n",
    "clf = RandomForestClassifier()\n",
    "\n",
    "# Train the model on the training data\n",
    "clf.fit(X_train, y_train)\n",
    "\n",
    "# Predict the labels for the training and test data\n",
    "y_train_pred = clf.predict(X_train)\n",
    "y_test_pred = clf.predict(X_test)\n",
    "\n",
    "# Calculate the accuracy of the model on the training and test data\n",
    "train_accuracy = accuracy_score(y_train, y_train_pred)\n",
    "test_accuracy = accuracy_score(y_test, y_test_pred)\n",
    "\n",
    "print(\"Train Accuracy:\", train_accuracy)\n",
    "print(\"Test Accuracy:\", test_accuracy)\n"
   ]
  },
  {
   "cell_type": "markdown",
   "metadata": {},
   "source": [
    "## Decision Boundary\n",
    "\n",
    "Sometimes it is helpful to plot the decision boundary for a learned model. To do so, we create a grid of data points and calculate the probability of belonging to class 1. \n",
    "(This can only be done once we have trained the random forest classifier)"
   ]
  },
  {
   "cell_type": "code",
   "execution_count": null,
   "metadata": {},
   "outputs": [],
   "source": [
    "x_min, x_max = X[:, 0].min(), X[:, 0].max()\n",
    "y_min, y_max = X[:, 1].min(), X[:, 1].max()\n",
    "h = .1\n",
    "xx, yy = np.meshgrid(np.arange(x_min, x_max, h),\n",
    "                         np.arange(y_min, y_max, h))\n",
    "Z = clf.predict_proba(np.c_[xx.ravel(), yy.ravel()])[:, 1]\n",
    "Z = Z.reshape(xx.shape)"
   ]
  },
  {
   "cell_type": "markdown",
   "metadata": {},
   "source": [
    "Then we can plot the boundary using the 'contourf' function of matplotlib."
   ]
  },
  {
   "cell_type": "code",
   "execution_count": null,
   "metadata": {},
   "outputs": [],
   "source": [
    "cm = plt.cm.RdBu  # color map\n",
    "plt.contourf(xx, yy, Z, alpha=.8, cmap=cm)\n",
    "colors = ['red','blue']\n",
    "for cur_class in [0,1]:\n",
    "    plt.scatter(X[y==cur_class, 0], X[y == cur_class, 1], c=colors[cur_class],\n",
    "                       edgecolors='k', alpha=0.6, label=cur_class)\n",
    "plt.legend()\n",
    "plt.show()"
   ]
  },
  {
   "cell_type": "markdown",
   "metadata": {},
   "source": [
    "What can you conclude from the figure above?"
   ]
  },
  {
   "cell_type": "markdown",
   "metadata": {},
   "source": [
    "## Parameter Selection\n",
    "\n",
    "The implementation of the random forest algorithm in sklearn has many parameter. The most important ones are the number of trees used (n_estimators) and the maximal depth of a single tree (max_depth). Investigate how the number of used trees effects the training and testing accuracy.\n",
    "\n",
    "<b>Exercise 3:</b>\n",
    "\n",
    "Plot a diagram that shows the training and testing accuracy depending on the number of trees (from 1 to 20) used. This plot should look like this:\n",
    "<img src=\"figures/num_trees.png\" width=\"600\"/>"
   ]
  },
  {
   "cell_type": "code",
   "execution_count": null,
   "metadata": {
    "scrolled": false
   },
   "outputs": [],
   "source": [
    "from sklearn.ensemble import RandomForestClassifier\n",
    "from sklearn.metrics import accuracy_score\n",
    "import matplotlib.pyplot as plt\n",
    "import numpy as np\n",
    "\n",
    "# Define the number of trees\n",
    "num_trees = np.arange(1, 21)  # This creates an array from 1 to 20 inclusive\n",
    "\n",
    "test_accuracy = []\n",
    "train_accuracy = []\n",
    "\n",
    "for n_trees in num_trees:  # Use a different variable here to avoid confusion\n",
    "\n",
    "    clf = RandomForestClassifier(n_estimators=n_trees)\n",
    "    clf.fit(X_train, y_train)\n",
    "    \n",
    "    # Evaluate the model on the test set\n",
    "    test_pred = clf.predict(X_test)\n",
    "    test_acc = accuracy_score(y_test, test_pred)\n",
    "    test_accuracy.append(test_acc)\n",
    "    \n",
    "    # Evaluate the model on the training set\n",
    "    train_pred = clf.predict(X_train)\n",
    "    train_acc = accuracy_score(y_train, train_pred)\n",
    "    train_accuracy.append(train_acc)\n",
    "\n",
    "# Create the plot\n",
    "plt.plot(num_trees, train_accuracy, label='Training Accuracy')\n",
    "plt.plot(num_trees, test_accuracy, label='Testing Accuracy')\n",
    "plt.xlabel('Number of Trees')\n",
    "plt.ylabel('Accuracy')\n",
    "plt.title('Training and Testing Accuracy vs. Number of Trees')\n",
    "plt.legend()\n",
    "plt.show()\n",
    "\n",
    "\n"
   ]
  },
  {
   "cell_type": "markdown",
   "metadata": {},
   "source": [
    "<b>Optional:</b>\n",
    "\n",
    "We want to further investigate how the number of used trees effects the training and testing accuracy. \n",
    "We want to increase the number of trees to a maximum of 50.\n",
    "\n",
    "Plot a diagram that shows the training and testing accuracy depending on the number of trees (from 1 to 50) used."
   ]
  },
  {
   "cell_type": "code",
   "execution_count": null,
   "metadata": {},
   "outputs": [],
   "source": [
    "from sklearn.ensemble import RandomForestClassifier\n",
    "from sklearn.metrics import accuracy_score\n",
    "import matplotlib.pyplot as plt\n",
    "import numpy as np\n",
    "\n",
    "# Define the number of trees\n",
    "num_trees = np.arange(1, 51)  # This creates an array from 1 to 20 inclusive\n",
    "\n",
    "test_accuracy = []\n",
    "train_accuracy = []\n",
    "\n",
    "for n_trees in num_trees:  # Use a different variable here to avoid confusion\n",
    "\n",
    "    clf = RandomForestClassifier(n_estimators=n_trees)\n",
    "    clf.fit(X_train, y_train)\n",
    "    \n",
    "    # Evaluate the model on the test set\n",
    "    test_pred = clf.predict(X_test)\n",
    "    test_acc = accuracy_score(y_test, test_pred)\n",
    "    test_accuracy.append(test_acc)\n",
    "    \n",
    "    # Evaluate the model on the training set\n",
    "    train_pred = clf.predict(X_train)\n",
    "    train_acc = accuracy_score(y_train, train_pred)\n",
    "    train_accuracy.append(train_acc)\n",
    "\n",
    "# Create the plot\n",
    "plt.plot(num_trees, train_accuracy, label='Training Accuracy')\n",
    "plt.plot(num_trees, test_accuracy, label='Testing Accuracy')\n",
    "plt.xlabel('Number of Trees')\n",
    "plt.ylabel('Accuracy')\n",
    "plt.title('Training and Testing Accuracy vs. Number of Trees')\n",
    "plt.legend()\n",
    "plt.show()\n"
   ]
  },
  {
   "cell_type": "markdown",
   "metadata": {},
   "source": [
    "<b>Exercise 4:</b>\n",
    "\n",
    "We saw how the number of trees influences training and testing accuracy. \n",
    "Now we do same thing for the other important parameter max_depth.\n",
    "Train multiple models with different depths. \n",
    "The models should use 30 trees as estimators.\n",
    "\n",
    "Plot a diagram that shows the training and testing accuracy depending on the maximal depth of a single tree (from 1 to 50). \n",
    "This plot should look like this:\n",
    "<img src=\"figures/max_depth.png\" width=\"600\"/>"
   ]
  },
  {
   "cell_type": "code",
   "execution_count": null,
   "metadata": {},
   "outputs": [],
   "source": [
    "from sklearn.ensemble import RandomForestClassifier\n",
    "from sklearn.metrics import accuracy_score\n",
    "import matplotlib.pyplot as plt\n",
    "import numpy as np\n",
    "\n",
    "# Define the range for max_depth\n",
    "max_depths = np.arange(1, 51)  # This creates an array from 1 to 50 inclusive\n",
    "\n",
    "test_accuracy = []\n",
    "train_accuracy = []\n",
    "\n",
    "for depth in max_depths:\n",
    "\n",
    "    clf = RandomForestClassifier(n_estimators=30, max_depth=depth)\n",
    "    clf.fit(X_train, y_train)\n",
    "    \n",
    "    # Evaluate the model on the test set\n",
    "    test_pred = clf.predict(X_test)\n",
    "    test_acc = accuracy_score(y_test, test_pred)\n",
    "    test_accuracy.append(test_acc)\n",
    "    \n",
    "    # Evaluate the model on the training set\n",
    "    train_pred = clf.predict(X_train)\n",
    "    train_acc = accuracy_score(y_train, train_pred)\n",
    "    train_accuracy.append(train_acc)\n",
    "\n",
    "# Create the plot\n",
    "plt.figure(figsize=(10, 5))  # Set the figure size as needed\n",
    "plt.plot(max_depths, train_accuracy, label='Training Accuracy')\n",
    "plt.plot(max_depths, test_accuracy, label='Testing Accuracy')\n",
    "plt.xlabel('Max Depth of Trees')\n",
    "plt.ylabel('Accuracy')\n",
    "plt.title('Training and Testing Accuracy vs. Max Depth of Trees')\n",
    "plt.legend()\n",
    "plt.show()\n"
   ]
  },
  {
   "cell_type": "markdown",
   "metadata": {},
   "source": [
    "## Churn Data Set\n",
    "Lets revisit the churn data set from the first tutorial."
   ]
  },
  {
   "cell_type": "code",
   "execution_count": null,
   "metadata": {},
   "outputs": [],
   "source": [
    "churn_df = pd.read_csv('telecom_churn.csv')\n",
    "label = churn_df['Churn']\n",
    "churn_df = churn_df.drop(columns=['Churn'])\n",
    "\n"
   ]
  },
  {
   "cell_type": "markdown",
   "metadata": {},
   "source": [
    "<b>Exercise 5:</b>\n",
    "\n",
    "Create a data set containing only the numeric values. <b>Optional:</b> Try to convert all non numeric values to numeric values using a one hot encoding or by binning them. "
   ]
  },
  {
   "cell_type": "code",
   "execution_count": null,
   "metadata": {},
   "outputs": [],
   "source": [
    "import pandas as pd\n",
    "\n",
    "# Load the dataset\n",
    "df = pd.read_csv('telecom_churn.csv')\n",
    "\n",
    "# Identify numeric columns\n",
    "numeric_df = df.select_dtypes(include=[np.number])\n",
    "\n",
    "# Optionally, convert non-numeric (categorical) columns to numeric using one-hot encoding\n",
    "if 'convert_non_numeric' in locals() and convert_non_numeric:\n",
    "    categorical_df = df.select_dtypes(exclude=[np.number])\n",
    "    encoded_df = pd.get_dummies(categorical_df)\n",
    "    # Combine the numeric dataframe with the encoded categorical dataframe\n",
    "    numeric_df = pd.concat([numeric_df, encoded_df], axis=1)\n",
    "\n",
    "numeric_df.shape\n"
   ]
  },
  {
   "cell_type": "markdown",
   "metadata": {},
   "source": [
    "<b>Exercise 6:</b>\n",
    "\n",
    "Train a model on this data set and visualize the most important features in a figure. This should look like this (The scaling and order of features can be different):\n",
    "<img src=\"figures/importance.png\" width=\"600\"/>\n",
    "\n",
    "<b>Hint</b>: The method feature_importance_ should be used.\n",
    "What can you conclude?"
   ]
  },
  {
   "cell_type": "code",
   "execution_count": 1,
   "metadata": {},
   "outputs": [
    {
     "data": {
      "image/png": "[encoded data removed]",
      "text/plain": [
       "<Figure size 1000x500 with 1 Axes>"
      ]
     },
     "metadata": {},
     "output_type": "display_data"
    }
   ],
   "source": [
    "import pandas as pd\n",
    "import numpy as np\n",
    "from sklearn.model_selection import train_test_split\n",
    "from sklearn.ensemble import RandomForestClassifier\n",
    "import matplotlib.pyplot as plt\n",
    "\n",
    "# Load the dataset\n",
    "df = pd.read_csv('telecom_churn.csv')\n",
    "\n",
    "# Handling non-numeric values by one-hot encoding\n",
    "df = pd.get_dummies(df)\n",
    "\n",
    "# Identify the target column (assuming the target column is named 'Churn')\n",
    "X = df.drop('Churn', axis=1)  # Features\n",
    "y = df['Churn']  # Target\n",
    "\n",
    "# Split the data into training and testing sets\n",
    "X_train, X_test, y_train, y_test = train_test_split(X, y, test_size=0.33, random_state=42)\n",
    "\n",
    "# Train the RandomForest model\n",
    "model = RandomForestClassifier(n_estimators=100, random_state=42)\n",
    "model.fit(X_train, y_train)\n",
    "\n",
    "# Get feature importances\n",
    "importances = model.feature_importances_\n",
    "\n",
    "# Sort the feature importances in descending order\n",
    "indices = np.argsort(importances)[::-1]\n",
    "\n",
    "# Plot the feature importances of the model\n",
    "plt.figure(figsize=(10, 5))\n",
    "plt.title('Feature Importances')\n",
    "plt.bar(range(X_train.shape[1]), importances[indices], color=\"r\", align=\"center\")\n",
    "plt.xticks(range(X_train.shape[1]), X_train.columns[indices], rotation=90)\n",
    "plt.xlim([-1, X_train.shape[1]])\n",
    "plt.xlabel('Features')\n",
    "plt.ylabel('Importance')\n",
    "plt.show()\n"
   ]
  },
  {
   "cell_type": "markdown",
   "metadata": {},
   "source": [
    "<b>Exercise 7:</b>\n",
    "\n",
    "If we want to use a random forest to solve regression problems we can use the RandomForestRegressor from sklearn.\n",
    "* Generate an easy regression data set using make_regression with 10 features. (use function make_regression)\n",
    "* Split the data set into a train and test set.\n",
    "* Train a model and report the training and testing mean square error (can be calculated using sklearn.metrics.mean_squared_error)"
   ]
  },
  {
   "cell_type": "code",
   "execution_count": 46,
   "metadata": {},
   "outputs": [
    {
     "name": "stdout",
     "output_type": "stream",
     "text": [
      "Training Mean Squared Error: 1.8211138479991004e-26\n",
      "Testing Mean Squared Error: 1.911750761261567e-26\n"
     ]
    }
   ],
   "source": [
    "### WRITE YOUR CODE HERE ###\n",
    "from sklearn.datasets import make_regression\n",
    "from sklearn.model_selection import train_test_split\n",
    "from sklearn.linear_model import LinearRegression\n",
    "from sklearn.metrics import mean_squared_error\n",
    "\n",
    "# Generate regression dataset\n",
    "X, y = make_regression(n_samples=1000, n_features=10, random_state=42)\n",
    "\n",
    "# Split the dataset into train and test sets\n",
    "X_train, X_test, y_train, y_test = train_test_split(X, y, test_size=0.2, random_state=42)\n",
    "\n",
    "# Train a linear regression model\n",
    "model = LinearRegression()\n",
    "model.fit(X_train, y_train)\n",
    "\n",
    "# Predict on the training and testing sets\n",
    "y_train_pred = model.predict(X_train)\n",
    "y_test_pred = model.predict(X_test)\n",
    "\n",
    "# Calculate mean squared error for training and testing sets\n",
    "train_mse = mean_squared_error(y_train, y_train_pred)\n",
    "test_mse = mean_squared_error(y_test, y_test_pred)\n",
    "\n",
    "print(\"Training Mean Squared Error:\", train_mse)\n",
    "print(\"Testing Mean Squared Error:\", test_mse)\n"
   ]
  }
 ],
 "metadata": {
  "kernelspec": {
   "display_name": "Python 3",
   "language": "python",
   "name": "python3"
  },
  "language_info": {
   "codemirror_mode": {
    "name": "ipython",
    "version": 3
   },
   "file_extension": ".py",
   "mimetype": "text/x-python",
   "name": "python",
   "nbconvert_exporter": "python",
   "pygments_lexer": "ipython3",
   "version": "3.10.13"
  }
 },
 "nbformat": 4,
 "nbformat_minor": 2
}
