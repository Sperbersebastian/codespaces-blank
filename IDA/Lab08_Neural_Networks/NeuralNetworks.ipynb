{
  "cells": [
    {
      "cell_type": "markdown",
      "metadata": {
        "id": "m3YDtSxjptXt"
      },
      "source": [
        "# Neural Networks\n",
        "\n",
        "In this exercise you will learn how to implement a feedforward neural network and train it with backpropagation."
      ]
    },
    {
      "cell_type": "code",
      "execution_count": 40,
      "metadata": {
        "id": "TOF5ehVhptXv"
      },
      "outputs": [],
      "source": [
        "import numpy as np\n",
        "from numpy.random import multivariate_normal\n",
        "from numpy.random import uniform\n",
        "from scipy.stats import zscore"
      ]
    },
    {
      "cell_type": "markdown",
      "metadata": {
        "id": "jo6F_ZTVptXw"
      },
      "source": [
        "We define two helper functions \"init_toy_data\" and \"init_model\" to create a simple data set to work on and a 2 layer neural network. "
      ]
    },
    {
      "cell_type": "markdown",
      "metadata": {
        "id": "2rje5MYtptXx"
      },
      "source": [
        "First, we create toy data with categorical labels by sampling from different multivariate normal distributions for each class. "
      ]
    },
    {
      "cell_type": "code",
      "execution_count": 41,
      "metadata": {
        "id": "82g8WBTXptXx"
      },
      "outputs": [],
      "source": [
        "def init_toy_data(num_samples,num_features, num_classes, seed=3):\n",
        "    # num_samples: number of samples *per class*\n",
        "    # num_features: number of features (excluding bias)\n",
        "    # num_classes: number of class labels\n",
        "    # seed: random seed\n",
        "    np.random.seed(seed)\n",
        "    X=np.zeros((num_samples*num_classes, num_features))\n",
        "    y=np.zeros(num_samples*num_classes)\n",
        "    for c in range(num_classes):\n",
        "        # initialize multivariate normal distribution for this class:\n",
        "        # choose a mean for each feature\n",
        "        means = uniform(low=-10, high=10, size=num_features)\n",
        "        # choose a variance for each feature\n",
        "        var = uniform(low=1.0, high=5, size=num_features)\n",
        "        # for simplicity, all features are uncorrelated (covariance between any two features is 0)\n",
        "        cov = var * np.eye(num_features)\n",
        "        # draw samples from normal distribution\n",
        "        X[c*num_samples:c*num_samples+num_samples,:] = multivariate_normal(means, cov, size=num_samples)\n",
        "        # set label\n",
        "        y[c*num_samples:c*num_samples+num_samples] = c\n",
        "    return X,y\n"
      ]
    },
    {
      "cell_type": "code",
      "execution_count": 42,
      "metadata": {
        "id": "Y28dcb7bptXy"
      },
      "outputs": [],
      "source": [
        "def init_model(input_size,hidden_size,num_classes, seed=3):\n",
        "    # input size: number of input features\n",
        "    # hidden_size: number of units in the hidden layer\n",
        "    # num_classes: number of class labels, i.e., number of output units\n",
        "    np.random.seed(seed)\n",
        "    model = {}\n",
        "    # initialize weight matrices and biases randomly\n",
        "    model['W1'] = uniform(low=-1, high=1, size=(input_size, hidden_size))\n",
        "    model['b1'] = uniform(low=-1, high=1, size=hidden_size)\n",
        "    model['W2'] = uniform(low=-1, high=1, size=(hidden_size, num_classes))\n",
        "    model['b2'] = uniform(low=-1, high=1, size=num_classes)\n",
        "    return model"
      ]
    },
    {
      "cell_type": "code",
      "execution_count": 43,
      "metadata": {
        "id": "2eip8kX7ptXz"
      },
      "outputs": [
        {
          "name": "stdout",
          "output_type": "stream",
          "text": [
            "X: [[ 0.39636145  1.09468144 -0.89360845  0.91815536]\n",
            " [ 0.94419323 -0.94027869  1.22268078  1.29597409]\n",
            " [-1.41577399  1.15477931 -0.62099631  0.08323307]\n",
            " [-1.35264614 -0.13598976 -1.14221784  0.26928935]\n",
            " [ 0.9352123   0.38225626  1.419864   -1.51152157]\n",
            " [ 0.49265316 -1.55544856  0.01427781 -1.0551303 ]]\n",
            "y: [0. 0. 1. 1. 2. 2.]\n"
          ]
        }
      ],
      "source": [
        "# create toy data\n",
        "X,y= init_toy_data(2,4,3) # 2 samples per class; 4 features, 3 classes\n",
        "# Normalize data\n",
        "X = zscore(X, axis=0)\n",
        "print('X: ' + str(X))\n",
        "print('y: ' + str(y))"
      ]
    },
    {
      "cell_type": "markdown",
      "metadata": {
        "id": "XpCCDC2mptXz"
      },
      "source": [
        "We now initialise our neural net with one hidden layer consisting of $10$ units and and an output layer consisting of $3$ units. Here we expect (any number of) training samples with $4$ features. We do not apply any activation functions yet. The following figure shows a graphical representation of this neuronal net. \n",
        "<img src=\"nn.graphviz.png\"  width=\"30%\" height=\"30%\">"
      ]
    },
    {
      "cell_type": "code",
      "execution_count": 44,
      "metadata": {
        "id": "99BAxa6RptX0"
      },
      "outputs": [
        {
          "name": "stdout",
          "output_type": "stream",
          "text": [
            "model: {'W1': array([[ 0.10159581,  0.41629565, -0.41819052,  0.02165521,  0.78589391,\n",
            "         0.79258618, -0.74882938, -0.58551424, -0.89706559, -0.11838031],\n",
            "       [-0.94024758, -0.08633355,  0.2982881 , -0.44302543,  0.3525098 ,\n",
            "         0.18172563, -0.95203624,  0.11770818, -0.48149511, -0.16979761],\n",
            "       [-0.43294984,  0.38627584, -0.11909256, -0.68626452,  0.08929804,\n",
            "         0.56062953, -0.38727294, -0.55608423, -0.22405748,  0.8727673 ],\n",
            "       [ 0.95199084,  0.34476735,  0.80566822,  0.69150174, -0.24401192,\n",
            "        -0.81556598,  0.30682181,  0.11568152, -0.27687047, -0.54989099]]), 'b1': array([-0.18696017, -0.0621195 , -0.46152884, -0.41641445, -0.0846272 ,\n",
            "        0.72106783,  0.17250581, -0.43302428, -0.44404499, -0.09075585]), 'W2': array([[-0.58917931, -0.59724258,  0.02807012],\n",
            "       [-0.82554126, -0.03282894, -0.27564758],\n",
            "       [ 0.41537324,  0.49349245,  0.38218584],\n",
            "       [ 0.37836083, -0.25279975,  0.33626961],\n",
            "       [-0.32030267,  0.14558774, -0.34838568],\n",
            "       [-0.1097099 , -0.87694214, -0.51464916],\n",
            "       [ 0.94320521, -0.53883159,  0.38295502],\n",
            "       [ 0.30095372,  0.44787828, -0.04982278],\n",
            "       [ 0.19332755, -0.86606115, -0.85487572],\n",
            "       [-0.60204795, -0.69627801, -0.79979131]]), 'b2': array([-0.74141227,  0.10655546, -0.62437035])}\n",
            "model['W1'].shape: (4, 10)\n",
            "model['W2'].shape: (10, 3)\n",
            "model['b1'].shape: (10,)\n",
            "model['b12'].shape: (3,)\n",
            "number of parameters: 83\n"
          ]
        }
      ],
      "source": [
        "# initialize model\n",
        "model = init_model(input_size=4, hidden_size=10, num_classes=3)\n",
        "\n",
        "print('model: ' + str(model))\n",
        "print('model[\\'W1\\'].shape: ' + str(model['W1'].shape))\n",
        "print('model[\\'W2\\'].shape: ' + str(model['W2'].shape))\n",
        "print('model[\\'b1\\'].shape: ' + str(model['b1'].shape))\n",
        "print('model[\\'b12\\'].shape: ' + str(model['b2'].shape))\n",
        "print('number of parameters: ' + str((model['W1'].shape[0] * model['W1'].shape[1]) + \n",
        "     np.sum(model['W2'].shape[0] * model['W2'].shape[1]) + \n",
        "     np.sum(model['b1'].shape[0]) +\n",
        "     np.sum(model['b2'].shape[0] )))"
      ]
    },
    {
      "cell_type": "markdown",
      "metadata": {
        "id": "Ojs6ScguptX1"
      },
      "source": [
        "<b>Exercise 1</b>: Implement softmax layer.\n",
        "\n",
        "Implement the softmax function given by \n",
        "\n",
        "$softmax(x_i) = \\frac{e^{x_i}}{{\\sum_{j\\in 1...J}e^{x_j}}}$, \n",
        "\n",
        "where $J$ is the total number of classes, i.e. the length of  **x** .\n",
        "\n",
        "Note: Implement the function such that it takes a matrix X of shape (N, J) as input rather than a single instance **x**; N is the number of instances."
      ]
    },
    {
      "cell_type": "code",
      "execution_count": 45,
      "metadata": {
        "id": "GcgC5wMvptX1"
      },
      "outputs": [],
      "source": [
        "import numpy as np\n",
        "\n",
        "def softmax(X):\n",
        "    # Subtract the maximum value in each row from each row (numerical stability)\n",
        "    #X_max = np.max(X, axis=1, keepdims=True)\n",
        "    #exp_X = np.exp(X - X_max)\n",
        "\n",
        "    # Calculate exponent of X \n",
        "    exp_X = np.exp(X)\n",
        "    # Compute the sum of exponentials for each row\n",
        "    sum_exp_X = np.sum(exp_X, axis=1, keepdims=True)\n",
        "    \n",
        "    # Compute the softmax for each row\n",
        "    softmax_X = exp_X / sum_exp_X\n",
        "    \n",
        "    return softmax_X"
      ]
    },
    {
      "cell_type": "markdown",
      "metadata": {
        "id": "7-BcVCIqptX2"
      },
      "source": [
        "Check if everything is correct."
      ]
    },
    {
      "cell_type": "code",
      "execution_count": 46,
      "metadata": {
        "id": "recCBdmqptX2"
      },
      "outputs": [
        {
          "name": "stdout",
          "output_type": "stream",
          "text": [
            "Testing successful.\n"
          ]
        }
      ],
      "source": [
        "x = np.array([[0.1, 0.7],[0.7,0.4]])\n",
        "exact_softmax = np.array([[ 0.35434369,  0.64565631],\n",
        "                         [ 0.57444252,  0.42555748]])\n",
        "sm = softmax(x)\n",
        "difference = np.sum(np.abs(exact_softmax - sm))\n",
        "try:\n",
        "    assert difference < 0.000001   \n",
        "    print(\"Testing successful.\")\n",
        "except:\n",
        "    print(\"Tests failed.\")"
      ]
    },
    {
      "cell_type": "markdown",
      "metadata": {
        "id": "bO0gCmA3ptX3"
      },
      "source": [
        "<b>Exercise 2</b>: Implement the forward propagation algorithm for the model defined above.\n",
        "\n",
        "The activation function of the hidden neurons is a Rectified Linear Unit $relu(x)=max(0,x)$ (to be applied element-wise to the hidden units)\n",
        "The activation function of the output layer is a softmax function as (as implemented in Exercise 1).\n",
        "\n",
        "The function should return both the activation of the hidden units (after having applied the $relu$ activation function) (shape: $(N, num\\_hidden)$) and the softmax model output (shape: $(N, num\\_classes)$). "
      ]
    },
    {
      "cell_type": "code",
      "execution_count": 47,
      "metadata": {
        "id": "pze-k4-XptX3"
      },
      "outputs": [],
      "source": [
        "def relu(x):\n",
        "    return np.maximum(0, x)\n",
        "\n",
        "def forward_prop(X, model):\n",
        "    W1 = model['W1']\n",
        "    b1 = model['b1']\n",
        "    W2 = model['W2']\n",
        "    b2 = model['b2']\n",
        "    \n",
        "    # Compute input to the hidden layer\n",
        "    hidden_input = np.dot(X, W1) + b1\n",
        "    \n",
        "    # Apply ReLU activation function\n",
        "    hidden_activations = relu(hidden_input)\n",
        "    \n",
        "    # Compute input to the output layer\n",
        "    output_input = np.dot(hidden_activations, W2) + b2\n",
        "    \n",
        "    # Apply softmax activation function\n",
        "    probs = softmax(output_input)\n",
        "    \n",
        "    return hidden_activations, probs"
      ]
    },
    {
      "cell_type": "code",
      "execution_count": 48,
      "metadata": {
        "id": "SHrLsiylptX3",
        "scrolled": true
      },
      "outputs": [
        {
          "name": "stdout",
          "output_type": "stream",
          "text": [
            "Testing successful.\n"
          ]
        }
      ],
      "source": [
        "acts,probs = forward_prop(X, model)\n",
        "correct_probs = np.array([[0.22836388, 0.51816433, 0.25347179],\n",
        "                            [0.15853289, 0.33057078, 0.51089632],\n",
        "                            [0.40710319, 0.41765056, 0.17524624],\n",
        "                            [0.85151353, 0.03656425, 0.11192222],\n",
        "                            [0.66016592, 0.19839791, 0.14143618],\n",
        "                            [0.70362036, 0.08667923, 0.20970041]])\n",
        "\n",
        "# the difference should be very small.\n",
        "difference =  np.sum(np.abs(probs - correct_probs))\n",
        "\n",
        "try:\n",
        "    assert probs.shape==(X.shape[0],len(set(y)))\n",
        "    assert difference < 0.00001   \n",
        "    print(\"Testing successful.\")\n",
        "except:\n",
        "    print(\"Tests failed.\")"
      ]
    },
    {
      "cell_type": "markdown",
      "metadata": {
        "id": "cGef2WaLptX4"
      },
      "source": [
        "<b>Exercise 3:</b> \n",
        "\n",
        "How would you train the above defined neural network? Which loss-function would you use? You do not need to implement this."
      ]
    },
    {
      "cell_type": "markdown",
      "metadata": {
        "id": "dSP8x8NEptX4"
      },
      "source": [
        "<b>Part 2 (Neural Net using Keras)</b>\n",
        "\n",
        "Instead of implementing the model learning ourselves, we can use the neural network library Keras for Python (https://keras.io/). Keras is an abstraction layer that either builds on top of Theano or Google's Tensorflow. So please install Keras and Tensorflow/Theano for this lab."
      ]
    },
    {
      "cell_type": "markdown",
      "metadata": {
        "id": "HKozKPKmptX4"
      },
      "source": [
        "<b>Exercise 4:</b>\n",
        "    Implement the same model as above using Keras:\n",
        "    \n",
        "    ** 1 hidden layer à 10 units\n",
        "    ** softmax output layer à three units\n",
        "    ** 4 input features\n",
        "    \n",
        "Compile the model using categorical cross-entropy (also referred to as 'softmax-loss') as loss function and using categorical crossentropy together with categorical accuracy as metrics for runtime evaluation during training.\n",
        "\n",
        "Hint 1: Use the Sequential Class API of Keras (https://keras.io/api/models/sequential/ or https://www.tensorflow.org/guide/keras/sequential_model)\n",
        "\n",
        "Hint 2: You can use the Adam optimizer of Keras for the model compilation"
      ]
    },
    {
      "cell_type": "code",
      "execution_count": 49,
      "metadata": {
        "id": "pZqK7kxhptX5"
      },
      "outputs": [
        {
          "data": {
            "text/html": [
              "<pre style=\"white-space:pre;overflow-x:auto;line-height:normal;font-family:Menlo,'DejaVu Sans Mono',consolas,'Courier New',monospace\"><span style=\"font-weight: bold\">Model: \"sequential_7\"</span>\n",
              "</pre>\n"
            ],
            "text/plain": [
              "\u001b[1mModel: \"sequential_7\"\u001b[0m\n"
            ]
          },
          "metadata": {},
          "output_type": "display_data"
        },
        {
          "data": {
            "text/html": [
              "<pre style=\"white-space:pre;overflow-x:auto;line-height:normal;font-family:Menlo,'DejaVu Sans Mono',consolas,'Courier New',monospace\">┏━━━━━━━━━━━━━━━━━━━━━━━━━━━━━━━━━┳━━━━━━━━━━━━━━━━━━━━━━━━┳━━━━━━━━━━━━━━━┓\n",
              "┃<span style=\"font-weight: bold\"> Layer (type)                    </span>┃<span style=\"font-weight: bold\"> Output Shape           </span>┃<span style=\"font-weight: bold\">       Param # </span>┃\n",
              "┡━━━━━━━━━━━━━━━━━━━━━━━━━━━━━━━━━╇━━━━━━━━━━━━━━━━━━━━━━━━╇━━━━━━━━━━━━━━━┩\n",
              "│ hidden_layer (<span style=\"color: #0087ff; text-decoration-color: #0087ff\">Dense</span>)            │ (<span style=\"color: #00d7ff; text-decoration-color: #00d7ff\">None</span>, <span style=\"color: #00af00; text-decoration-color: #00af00\">10</span>)             │            <span style=\"color: #00af00; text-decoration-color: #00af00\">50</span> │\n",
              "├─────────────────────────────────┼────────────────────────┼───────────────┤\n",
              "│ output_layer (<span style=\"color: #0087ff; text-decoration-color: #0087ff\">Dense</span>)            │ (<span style=\"color: #00d7ff; text-decoration-color: #00d7ff\">None</span>, <span style=\"color: #00af00; text-decoration-color: #00af00\">3</span>)              │            <span style=\"color: #00af00; text-decoration-color: #00af00\">33</span> │\n",
              "└─────────────────────────────────┴────────────────────────┴───────────────┘\n",
              "</pre>\n"
            ],
            "text/plain": [
              "┏━━━━━━━━━━━━━━━━━━━━━━━━━━━━━━━━━┳━━━━━━━━━━━━━━━━━━━━━━━━┳━━━━━━━━━━━━━━━┓\n",
              "┃\u001b[1m \u001b[0m\u001b[1mLayer (type)                   \u001b[0m\u001b[1m \u001b[0m┃\u001b[1m \u001b[0m\u001b[1mOutput Shape          \u001b[0m\u001b[1m \u001b[0m┃\u001b[1m \u001b[0m\u001b[1m      Param #\u001b[0m\u001b[1m \u001b[0m┃\n",
              "┡━━━━━━━━━━━━━━━━━━━━━━━━━━━━━━━━━╇━━━━━━━━━━━━━━━━━━━━━━━━╇━━━━━━━━━━━━━━━┩\n",
              "│ hidden_layer (\u001b[38;5;33mDense\u001b[0m)            │ (\u001b[38;5;45mNone\u001b[0m, \u001b[38;5;34m10\u001b[0m)             │            \u001b[38;5;34m50\u001b[0m │\n",
              "├─────────────────────────────────┼────────────────────────┼───────────────┤\n",
              "│ output_layer (\u001b[38;5;33mDense\u001b[0m)            │ (\u001b[38;5;45mNone\u001b[0m, \u001b[38;5;34m3\u001b[0m)              │            \u001b[38;5;34m33\u001b[0m │\n",
              "└─────────────────────────────────┴────────────────────────┴───────────────┘\n"
            ]
          },
          "metadata": {},
          "output_type": "display_data"
        },
        {
          "data": {
            "text/html": [
              "<pre style=\"white-space:pre;overflow-x:auto;line-height:normal;font-family:Menlo,'DejaVu Sans Mono',consolas,'Courier New',monospace\"><span style=\"font-weight: bold\"> Total params: </span><span style=\"color: #00af00; text-decoration-color: #00af00\">83</span> (332.00 B)\n",
              "</pre>\n"
            ],
            "text/plain": [
              "\u001b[1m Total params: \u001b[0m\u001b[38;5;34m83\u001b[0m (332.00 B)\n"
            ]
          },
          "metadata": {},
          "output_type": "display_data"
        },
        {
          "data": {
            "text/html": [
              "<pre style=\"white-space:pre;overflow-x:auto;line-height:normal;font-family:Menlo,'DejaVu Sans Mono',consolas,'Courier New',monospace\"><span style=\"font-weight: bold\"> Trainable params: </span><span style=\"color: #00af00; text-decoration-color: #00af00\">83</span> (332.00 B)\n",
              "</pre>\n"
            ],
            "text/plain": [
              "\u001b[1m Trainable params: \u001b[0m\u001b[38;5;34m83\u001b[0m (332.00 B)\n"
            ]
          },
          "metadata": {},
          "output_type": "display_data"
        },
        {
          "data": {
            "text/html": [
              "<pre style=\"white-space:pre;overflow-x:auto;line-height:normal;font-family:Menlo,'DejaVu Sans Mono',consolas,'Courier New',monospace\"><span style=\"font-weight: bold\"> Non-trainable params: </span><span style=\"color: #00af00; text-decoration-color: #00af00\">0</span> (0.00 B)\n",
              "</pre>\n"
            ],
            "text/plain": [
              "\u001b[1m Non-trainable params: \u001b[0m\u001b[38;5;34m0\u001b[0m (0.00 B)\n"
            ]
          },
          "metadata": {},
          "output_type": "display_data"
        }
      ],
      "source": [
        "from keras.models import Sequential\n",
        "from keras.layers import Dense, Activation\n",
        "from keras import optimizers\n",
        "\n",
        "# Define the model\n",
        "model = Sequential(\n",
        "    [\n",
        "        # Add a hidden layer with 10 units and ReLU activation\n",
        "        Dense(10, input_dim=4, activation='relu', name = \"hidden_layer\"),\n",
        "        # Add the output layer with 3 units and softmax activation\n",
        "        Dense(3, activation='softmax', name = \"output_layer\"),\n",
        "    ]\n",
        ")\n",
        "# Compile the model\n",
        "opt = optimizers.Adam() # keras.optimizers.Optimizer()\n",
        "model.compile(optimizer= opt,\n",
        "              loss='categorical_crossentropy',\n",
        "              metrics=['categorical_accuracy'])\n",
        "\n",
        "# Summary of the model\n",
        "model.summary()\n"
      ]
    },
    {
      "cell_type": "markdown",
      "metadata": {
        "id": "1QhNMmKGptX5"
      },
      "source": [
        "The description of the current network can always be looked at via the summary method. The layers can be accessed via model.layers and weights can be obtained with the method get_weights. Check if your model is as expected. "
      ]
    },
    {
      "cell_type": "code",
      "execution_count": 50,
      "metadata": {
        "id": "abzHV5AxptX5"
      },
      "outputs": [
        {
          "name": "stdout",
          "output_type": "stream",
          "text": [
            "First layer weights: [[ 0.03474957  0.30582875  0.04408026  0.30278957 -0.058707   -0.4168315\n",
            "  -0.31562632 -0.6515523  -0.39694327 -0.53513604]\n",
            " [-0.36149964  0.304066   -0.63804567 -0.3839044  -0.5092128   0.15226585\n",
            "   0.5298828   0.5587183   0.16514057  0.39393353]\n",
            " [-0.37478033  0.07663655 -0.5954541  -0.4409202   0.25285107  0.55041957\n",
            "   0.22080052  0.32224     0.55577147  0.28035176]\n",
            " [ 0.57457817  0.4643947   0.2279442   0.32242757  0.49091077  0.07847673\n",
            "  -0.3323706   0.39815974  0.34214818 -0.25028855]]; shape: (4, 10)\n",
            "First layer bias: [0. 0. 0. 0. 0. 0. 0. 0. 0. 0.]; shape: (10,)\n",
            "Second layer weights: [[ 0.44888246  0.18951505  0.01792657]\n",
            " [ 0.44639957  0.44912767 -0.20167762]\n",
            " [ 0.33277774  0.31795532 -0.536491  ]\n",
            " [ 0.30377197  0.00535113  0.01777351]\n",
            " [-0.4595505   0.40978062  0.0723837 ]\n",
            " [-0.23187402 -0.3911254  -0.49383253]\n",
            " [ 0.29096764 -0.53261614  0.40969348]\n",
            " [ 0.19345212  0.3559091  -0.64936125]\n",
            " [-0.23201138  0.13997751  0.42764413]\n",
            " [-0.18219286  0.47607386 -0.67760104]]; shape: (10, 3)\n",
            "Second layer bias: [0. 0. 0.]; shape: (3,)\n",
            "number of layes: 2\n"
          ]
        },
        {
          "data": {
            "text/html": [
              "<pre style=\"white-space:pre;overflow-x:auto;line-height:normal;font-family:Menlo,'DejaVu Sans Mono',consolas,'Courier New',monospace\"><span style=\"font-weight: bold\">Model: \"sequential_7\"</span>\n",
              "</pre>\n"
            ],
            "text/plain": [
              "\u001b[1mModel: \"sequential_7\"\u001b[0m\n"
            ]
          },
          "metadata": {},
          "output_type": "display_data"
        },
        {
          "data": {
            "text/html": [
              "<pre style=\"white-space:pre;overflow-x:auto;line-height:normal;font-family:Menlo,'DejaVu Sans Mono',consolas,'Courier New',monospace\">┏━━━━━━━━━━━━━━━━━━━━━━━━━━━━━━━━━┳━━━━━━━━━━━━━━━━━━━━━━━━┳━━━━━━━━━━━━━━━┓\n",
              "┃<span style=\"font-weight: bold\"> Layer (type)                    </span>┃<span style=\"font-weight: bold\"> Output Shape           </span>┃<span style=\"font-weight: bold\">       Param # </span>┃\n",
              "┡━━━━━━━━━━━━━━━━━━━━━━━━━━━━━━━━━╇━━━━━━━━━━━━━━━━━━━━━━━━╇━━━━━━━━━━━━━━━┩\n",
              "│ hidden_layer (<span style=\"color: #0087ff; text-decoration-color: #0087ff\">Dense</span>)            │ (<span style=\"color: #00d7ff; text-decoration-color: #00d7ff\">None</span>, <span style=\"color: #00af00; text-decoration-color: #00af00\">10</span>)             │            <span style=\"color: #00af00; text-decoration-color: #00af00\">50</span> │\n",
              "├─────────────────────────────────┼────────────────────────┼───────────────┤\n",
              "│ output_layer (<span style=\"color: #0087ff; text-decoration-color: #0087ff\">Dense</span>)            │ (<span style=\"color: #00d7ff; text-decoration-color: #00d7ff\">None</span>, <span style=\"color: #00af00; text-decoration-color: #00af00\">3</span>)              │            <span style=\"color: #00af00; text-decoration-color: #00af00\">33</span> │\n",
              "└─────────────────────────────────┴────────────────────────┴───────────────┘\n",
              "</pre>\n"
            ],
            "text/plain": [
              "┏━━━━━━━━━━━━━━━━━━━━━━━━━━━━━━━━━┳━━━━━━━━━━━━━━━━━━━━━━━━┳━━━━━━━━━━━━━━━┓\n",
              "┃\u001b[1m \u001b[0m\u001b[1mLayer (type)                   \u001b[0m\u001b[1m \u001b[0m┃\u001b[1m \u001b[0m\u001b[1mOutput Shape          \u001b[0m\u001b[1m \u001b[0m┃\u001b[1m \u001b[0m\u001b[1m      Param #\u001b[0m\u001b[1m \u001b[0m┃\n",
              "┡━━━━━━━━━━━━━━━━━━━━━━━━━━━━━━━━━╇━━━━━━━━━━━━━━━━━━━━━━━━╇━━━━━━━━━━━━━━━┩\n",
              "│ hidden_layer (\u001b[38;5;33mDense\u001b[0m)            │ (\u001b[38;5;45mNone\u001b[0m, \u001b[38;5;34m10\u001b[0m)             │            \u001b[38;5;34m50\u001b[0m │\n",
              "├─────────────────────────────────┼────────────────────────┼───────────────┤\n",
              "│ output_layer (\u001b[38;5;33mDense\u001b[0m)            │ (\u001b[38;5;45mNone\u001b[0m, \u001b[38;5;34m3\u001b[0m)              │            \u001b[38;5;34m33\u001b[0m │\n",
              "└─────────────────────────────────┴────────────────────────┴───────────────┘\n"
            ]
          },
          "metadata": {},
          "output_type": "display_data"
        },
        {
          "data": {
            "text/html": [
              "<pre style=\"white-space:pre;overflow-x:auto;line-height:normal;font-family:Menlo,'DejaVu Sans Mono',consolas,'Courier New',monospace\"><span style=\"font-weight: bold\"> Total params: </span><span style=\"color: #00af00; text-decoration-color: #00af00\">83</span> (332.00 B)\n",
              "</pre>\n"
            ],
            "text/plain": [
              "\u001b[1m Total params: \u001b[0m\u001b[38;5;34m83\u001b[0m (332.00 B)\n"
            ]
          },
          "metadata": {},
          "output_type": "display_data"
        },
        {
          "data": {
            "text/html": [
              "<pre style=\"white-space:pre;overflow-x:auto;line-height:normal;font-family:Menlo,'DejaVu Sans Mono',consolas,'Courier New',monospace\"><span style=\"font-weight: bold\"> Trainable params: </span><span style=\"color: #00af00; text-decoration-color: #00af00\">83</span> (332.00 B)\n",
              "</pre>\n"
            ],
            "text/plain": [
              "\u001b[1m Trainable params: \u001b[0m\u001b[38;5;34m83\u001b[0m (332.00 B)\n"
            ]
          },
          "metadata": {},
          "output_type": "display_data"
        },
        {
          "data": {
            "text/html": [
              "<pre style=\"white-space:pre;overflow-x:auto;line-height:normal;font-family:Menlo,'DejaVu Sans Mono',consolas,'Courier New',monospace\"><span style=\"font-weight: bold\"> Non-trainable params: </span><span style=\"color: #00af00; text-decoration-color: #00af00\">0</span> (0.00 B)\n",
              "</pre>\n"
            ],
            "text/plain": [
              "\u001b[1m Non-trainable params: \u001b[0m\u001b[38;5;34m0\u001b[0m (0.00 B)\n"
            ]
          },
          "metadata": {},
          "output_type": "display_data"
        }
      ],
      "source": [
        "# Check model architecture and initial weights.\n",
        "\n",
        "W_1, b_1 = model.layers[0].get_weights()\n",
        "print(\"First layer weights: %s; shape: %s\" % (W_1,W_1.shape))\n",
        "print(\"First layer bias: %s; shape: %s\" % (b_1,b_1.shape))\n",
        "W_2, b_2 = model.layers[1].get_weights()\n",
        "print(\"Second layer weights: %s; shape: %s\" % (W_2,W_2.shape))\n",
        "print(\"Second layer bias: %s; shape: %s\" % (b_2,b_2.shape))\n",
        "print(\"number of layes: \" + str(len(model.layers)))\n",
        "model.summary()\n"
      ]
    },
    {
      "cell_type": "markdown",
      "metadata": {
        "collapsed": true,
        "id": "sk8x5Dy0ptX5"
      },
      "source": [
        "<b>Exercise 5:</b> Train the model on the toy data set generated below: \n",
        "\n",
        "Hints: \n",
        "\n",
        "* Keras expects one-hot-coded labels \n",
        "\n",
        "* Don't forget to normalize the data"
      ]
    },
    {
      "cell_type": "code",
      "execution_count": 54,
      "metadata": {
        "id": "_4mu3twRptX6"
      },
      "outputs": [
        {
          "name": "stdout",
          "output_type": "stream",
          "text": [
            "Epoch 1/5\n",
            "\u001b[1m 1/51\u001b[0m \u001b[37m━━━━━━━━━━━━━━━━━━━━\u001b[0m \u001b[1m0s\u001b[0m 13ms/step - categorical_accuracy: 1.0000 - loss: 0.0507"
          ]
        },
        {
          "name": "stdout",
          "output_type": "stream",
          "text": [
            "\u001b[1m51/51\u001b[0m \u001b[32m━━━━━━━━━━━━━━━━━━━━\u001b[0m\u001b[37m\u001b[0m \u001b[1m0s\u001b[0m 2ms/step - categorical_accuracy: 0.9986 - loss: 0.0403 - val_categorical_accuracy: 1.0000 - val_loss: 0.0335\n",
            "Epoch 2/5\n",
            "\u001b[1m51/51\u001b[0m \u001b[32m━━━━━━━━━━━━━━━━━━━━\u001b[0m\u001b[37m\u001b[0m \u001b[1m0s\u001b[0m 1ms/step - categorical_accuracy: 0.9979 - loss: 0.0350 - val_categorical_accuracy: 1.0000 - val_loss: 0.0300\n",
            "Epoch 3/5\n",
            "\u001b[1m51/51\u001b[0m \u001b[32m━━━━━━━━━━━━━━━━━━━━\u001b[0m\u001b[37m\u001b[0m \u001b[1m0s\u001b[0m 1ms/step - categorical_accuracy: 0.9982 - loss: 0.0324 - val_categorical_accuracy: 1.0000 - val_loss: 0.0270\n",
            "Epoch 4/5\n",
            "\u001b[1m51/51\u001b[0m \u001b[32m━━━━━━━━━━━━━━━━━━━━\u001b[0m\u001b[37m\u001b[0m \u001b[1m0s\u001b[0m 1ms/step - categorical_accuracy: 0.9997 - loss: 0.0293 - val_categorical_accuracy: 1.0000 - val_loss: 0.0245\n",
            "Epoch 5/5\n",
            "\u001b[1m51/51\u001b[0m \u001b[32m━━━━━━━━━━━━━━━━━━━━\u001b[0m\u001b[37m\u001b[0m \u001b[1m0s\u001b[0m 2ms/step - categorical_accuracy: 0.9964 - loss: 0.0280 - val_categorical_accuracy: 1.0000 - val_loss: 0.0224\n",
            "\u001b[1m63/63\u001b[0m \u001b[32m━━━━━━━━━━━━━━━━━━━━\u001b[0m\u001b[37m\u001b[0m \u001b[1m0s\u001b[0m 575us/step - categorical_accuracy: 0.9975 - loss: 0.0269\n",
            "\u001b[1m31/31\u001b[0m \u001b[32m━━━━━━━━━━━━━━━━━━━━\u001b[0m\u001b[37m\u001b[0m \u001b[1m0s\u001b[0m 610us/step - categorical_accuracy: 0.9995 - loss: 0.0262\n",
            "Train Accuracy: 0.9985074400901794, Test Accuracy: 0.9989898800849915\n"
          ]
        }
      ],
      "source": [
        "from sklearn.model_selection import train_test_split\n",
        "from sklearn.preprocessing import OneHotEncoder, StandardScaler\n",
        "\n",
        "X, y = init_toy_data(1000, 4, 3, seed=3)\n",
        "\n",
        "# Split the dataset\n",
        "X_train, X_test, y_train, y_test = train_test_split(X, y, test_size=0.33, random_state=67)\n",
        "\n",
        "# Normalize the training data and apply the same transformation to the testing data\n",
        "scaler = StandardScaler()\n",
        "X_train = scaler.fit_transform(X_train)\n",
        "X_test = scaler.transform(X_test)\n",
        "\n",
        "# One-Hot Encode the labels\n",
        "encoder = OneHotEncoder(sparse_output=False)  # Use sparse_output=False to ensure dense arrays\n",
        "y_train = encoder.fit_transform(y_train.reshape(-1, 1))\n",
        "y_test = encoder.transform(y_test.reshape(-1, 1))\n",
        "\n",
        "# Train the model\n",
        "history = model.fit(X_train, y_train, epochs=5, batch_size=32, validation_split=0.2)\n",
        "\n",
        "# Evaluate the model\n",
        "train_loss, train_acc = model.evaluate(X_train, y_train)\n",
        "test_loss, test_acc = model.evaluate(X_test, y_test)\n",
        "print(f\"Train Accuracy: {train_acc}, Test Accuracy: {test_acc}\")\n"
      ]
    },
    {
      "cell_type": "markdown",
      "metadata": {
        "id": "Np35zqMPjrjo"
      },
      "source": [
        "Compare the test accuracy with the train accuracy. What can you see? Is the model performing well?"
      ]
    }
  ],
  "metadata": {
    "anaconda-cloud": {},
    "colab": {
      "name": "NeuralNetworks.ipynb",
      "provenance": []
    },
    "kernelspec": {
      "display_name": "Python 3",
      "language": "python",
      "name": "python3"
    },
    "language_info": {
      "codemirror_mode": {
        "name": "ipython",
        "version": 3
      },
      "file_extension": ".py",
      "mimetype": "text/x-python",
      "name": "python",
      "nbconvert_exporter": "python",
      "pygments_lexer": "ipython3",
      "version": "3.10.13"
    }
  },
  "nbformat": 4,
  "nbformat_minor": 0
}
